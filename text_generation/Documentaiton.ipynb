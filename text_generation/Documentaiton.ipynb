{
 "cells": [
  {
   "cell_type": "markdown",
   "id": "2abda989-fe5a-4ac1-b58d-6a99c56a9b9c",
   "metadata": {},
   "source": [
    "<div align=\"center\"><font size=6> Process Documentation </font> </div>"
   ]
  },
  {
   "cell_type": "markdown",
   "id": "d1f22c28-508c-4c4f-aa78-95a24fa6c393",
   "metadata": {},
   "source": [
    "Importing hugging face transformer pipeline and flask dependency's"
   ]
  },
  {
   "cell_type": "code",
   "execution_count": null,
   "id": "3a25d6ed-4c39-4b25-b5c8-bcdf87f3ad83",
   "metadata": {
    "collapsed": true,
    "jupyter": {
     "outputs_hidden": true
    }
   },
   "outputs": [],
   "source": [
    "from transformers import pipeline\n",
    "from flask import Flask, render_template, request, jsonify"
   ]
  },
  {
   "cell_type": "markdown",
   "id": "83e8afa9-9cd6-4038-a81f-0007a87ed170",
   "metadata": {},
   "source": [
    "* Using available two gpt3 based models from transformers\n",
    "    * Source for <a href= \"https://huggingface.co/EleutherAI/gpt-neo-1.3B?text=Turk+Aegean+is+one+of+the+most+beautiful+summer+destinations+in+the+world%E2%80%8B%2C\">EleutherAI/gpt-neo-1.3B</a> model"
   ]
  },
  {
   "cell_type": "code",
   "execution_count": null,
   "id": "c4638692-36be-4dc7-91da-a7268daab20f",
   "metadata": {
    "collapsed": true,
    "jupyter": {
     "outputs_hidden": true
    }
   },
   "outputs": [],
   "source": [
    "print(f'{\"*\"*5}initializing EleutherAI/gpt-neo-1.3B (GPT3based model){\"*\"*5}')\n",
    "generator_EleutherAI = pipeline('text-generation', model='EleutherAI/gpt-neo-1.3B')"
   ]
  },
  {
   "cell_type": "markdown",
   "id": "258ea00c-1491-43e3-b71c-774d6b4a33a2",
   "metadata": {},
   "source": [
    "* Source for <a href= \"https://huggingface.co/openai-gpt\">openai-gpt</a> model"
   ]
  },
  {
   "cell_type": "code",
   "execution_count": null,
   "id": "41de8a1c-a9bc-4f2f-9055-91b6519e0eae",
   "metadata": {
    "collapsed": true,
    "jupyter": {
     "outputs_hidden": true
    }
   },
   "outputs": [],
   "source": [
    "print(f'{\"*\"*5}initializing openai-gpt model{\"*\"*5}')\n",
    "generator_Open_ai = pipeline('text-generation', model='openai-gpt')"
   ]
  },
  {
   "cell_type": "markdown",
   "id": "5a000e45-519f-42f2-8d8a-78db28a5fdce",
   "metadata": {},
   "source": [
    "* Defining a function for dynamic use of 2 models\n",
    "    * depending on the use case given taking choosing\n",
    "        - min_length=150 \n",
    "        - max_length = 200"
   ]
  },
  {
   "cell_type": "code",
   "execution_count": null,
   "id": "f1f2fd5a-a7b6-4005-83ea-28c31ba7bea1",
   "metadata": {
    "collapsed": true,
    "jupyter": {
     "outputs_hidden": true
    }
   },
   "outputs": [],
   "source": [
    "def get_model_gen(model, text):\n",
    "    result = model(text, min_length=150, max_length = 200, do_sample=True)\n",
    "    result = result[0]['generated_text'].replace(\"\\n\", ' ')\n",
    "    return result"
   ]
  },
  {
   "cell_type": "markdown",
   "id": "a540e08d-0534-42b0-8d9b-4e13ebc318e0",
   "metadata": {},
   "source": [
    "* Defining the flask app\n",
    "    * choosing model and text passing through url path parameters or request arguments through url\n",
    "        - retrieving the model type using:  request.args.get('model')\n",
    "        - retrieving text using:  request.args.get(\"text_input\")"
   ]
  },
  {
   "cell_type": "code",
   "execution_count": null,
   "id": "b6e442e0-639c-41b2-a7d0-41626784b978",
   "metadata": {
    "collapsed": true,
    "jupyter": {
     "outputs_hidden": true
    }
   },
   "outputs": [],
   "source": [
    "# building flask app\n",
    "app = Flask(__name__)#__name__\n",
    "@app.route('/textgen', methods=[\"GET\", \"POST\"])\n",
    "def textgen_api():\n",
    "\n",
    "    #retrieving model type as path parameter\n",
    "    model_type = request.args.get('model')\n",
    "    print(f'{\"*\"*5}using : {model_type}{\"*\"*5}\\n')\n",
    "\n",
    "    # getting input with name = text_input in HTML form\n",
    "    text = request.args.get(\"text_input\")\n",
    "    print(f'{\"*\"*5}given text : {text}{\"*\"*5}')\n",
    "\n",
    "    #checking model type\n",
    "    if model_type == 'EleutherAI':\n",
    "        result = get_model_gen(generator_EleutherAI,text)\n",
    "\n",
    "    elif model_type == 'OpenAI':\n",
    "        result = get_model_gen(generator_Open_ai,text)\n",
    "    \n",
    "    # returning the result in the json form\n",
    "    return jsonify(result)\n",
    "\n",
    "\n",
    "\n",
    "# if __name__=='__main__':\n",
    "#    app.run()#host='0.0.0.0'"
   ]
  },
  {
   "cell_type": "markdown",
   "id": "8147de0b-05c3-4ce2-97a5-edfed0d28a2c",
   "metadata": {},
   "source": [
    "To start the flask app, redirect to the flask_app file path and run  \n",
    "    - < FLASK_APP=flask_app.py flask run >"
   ]
  },
  {
   "cell_type": "markdown",
   "id": "2c4322d4-a678-4e13-8827-d9a337f6bf73",
   "metadata": {},
   "source": [
    "* Building the text encoded url for api use\n",
    "    - Examples:\n",
    "        - http://127.0.0.1:5000/textgen?model=EleutherAI&text_input=Hyderabad%20is%20the%20one%20of%20the%20beautiful%20city%20and%20\n",
    "        - http://127.0.0.1:5000/textgen?model=OpenAI&text_input=Hyderabad%20is%20the%20one%20of%20the%20beautiful%20city%20and%20"
   ]
  },
  {
   "cell_type": "code",
   "execution_count": 3,
   "id": "29c148ed-0345-4c90-921b-d620bd94c589",
   "metadata": {
    "tags": []
   },
   "outputs": [],
   "source": [
    "import requests\n",
    "import urllib.parse as parse"
   ]
  },
  {
   "cell_type": "code",
   "execution_count": 9,
   "id": "d3f663c6-0f78-42e4-92ad-19cb4dc4bf54",
   "metadata": {
    "tags": []
   },
   "outputs": [
    {
     "data": {
      "text/plain": [
       "'Hyderabad%20is%20the%20one%20of%20the%20beautiful%20city%20and%20'"
      ]
     },
     "execution_count": 9,
     "metadata": {},
     "output_type": "execute_result"
    }
   ],
   "source": [
    "text = 'Hyderabad is the one of the beautiful city and '\n",
    "encoded_text = parse.quote(text.encode('utf8'))\n",
    "encoded_text"
   ]
  },
  {
   "cell_type": "code",
   "execution_count": 8,
   "id": "6cf07fc7-3d17-4f4d-a0bf-95d52c4b89a7",
   "metadata": {},
   "outputs": [
    {
     "data": {
      "text/plain": [
       "'http://127.0.0.1:5000/textgen?model=EleutherAI&text_input=Hyderabad%20is%20the%20one%20of%20the%20beautiful%20city%20and%20'"
      ]
     },
     "execution_count": 8,
     "metadata": {},
     "output_type": "execute_result"
    }
   ],
   "source": [
    "# we can use two models (EleutherAI, OpenAI)\n",
    "model = 'EleutherAI' #OpenAI\n",
    "\n",
    "#modifying the url with formated sting to insert model type and the encoded text\n",
    "api_url = f\"http://127.0.0.1:5000/textgen?model={model}&text_input={encoded_text}\"\n",
    "api_url"
   ]
  },
  {
   "cell_type": "code",
   "execution_count": 13,
   "id": "3471de98-7af6-4729-a00d-81102a77f8ca",
   "metadata": {
    "tags": []
   },
   "outputs": [
    {
     "data": {
      "text/plain": [
       "'Hyderabad is the one of the beautiful city and  place to visit in India, India is spreaded in 1450 km2. It is one of the largest district of the state of Telangana, India. It is located 18 miles southeast of Hyderabad and 26 miles south of Vijayawada. It is also one of the fastest growing districts of India, and the largest in the state of Andhra Pradesh. The state of Telangana is also referred to as Andhra Pradesh. The state of Andhra Pradesh is bordered by Andhra Pradesh, Karnataka to the north, Tamil Nadu to the east and the states of Chhattisgarh and Rajasthan to the south east.  The city of Hyderabad as well as all the surrounding areas are a blend of the culture, art, architecture, fashion, nightlife and a lot more. The city has beautiful and breathtaking landscape that make travelling to the area worthwhile. It is not only a city'"
      ]
     },
     "execution_count": 13,
     "metadata": {},
     "output_type": "execute_result"
    }
   ],
   "source": [
    "response = requests.get(api_url)\n",
    "response.json()"
   ]
  }
 ],
 "metadata": {
  "kernelspec": {
   "display_name": "Python 3 (ipykernel)",
   "language": "python",
   "name": "python3"
  },
  "language_info": {
   "codemirror_mode": {
    "name": "ipython",
    "version": 3
   },
   "file_extension": ".py",
   "mimetype": "text/x-python",
   "name": "python",
   "nbconvert_exporter": "python",
   "pygments_lexer": "ipython3",
   "version": "3.10.6"
  }
 },
 "nbformat": 4,
 "nbformat_minor": 5
}
